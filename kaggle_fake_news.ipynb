{
  "nbformat": 4,
  "nbformat_minor": 0,
  "metadata": {
    "colab": {
      "name": "kaggle_fake_news.ipynb",
      "provenance": [],
      "collapsed_sections": []
    },
    "kernelspec": {
      "name": "python3",
      "display_name": "Python 3"
    }
  },
  "cells": [
    {
      "cell_type": "code",
      "metadata": {
        "id": "GCkuSkkiikcG",
        "colab_type": "code",
        "colab": {
          "base_uri": "https://localhost:8080/",
          "height": 85
        },
        "outputId": "3570e9d6-be41-49dc-83ee-5023ab014eac"
      },
      "source": [
        "from config import *\n",
        "import nltk\n",
        "nltk.download('stopwords')\n",
        "nltk.download('wordnet')\n",
        "from nltk.stem import WordNetLemmatizer \n",
        "from nltk.corpus import stopwords\n",
        "lemmatizer = WordNetLemmatizer() \n",
        "from tensorflow.keras import regularizers, initializers, optimizers, callbacks\n",
        "from tensorflow.keras.layers import *\n",
        "from tensorflow.keras.models import Sequential\n",
        "from sklearn.model_selection import train_test_split\n",
        "import pandas as pd\n",
        "import numpy as np\n",
        "import matplotlib.pyplot as plt"
      ],
      "execution_count": null,
      "outputs": [
        {
          "output_type": "stream",
          "text": [
            "[nltk_data] Downloading package stopwords to /root/nltk_data...\n",
            "[nltk_data]   Package stopwords is already up-to-date!\n",
            "[nltk_data] Downloading package wordnet to /root/nltk_data...\n",
            "[nltk_data]   Package wordnet is already up-to-date!\n"
          ],
          "name": "stdout"
        }
      ]
    },
    {
      "cell_type": "code",
      "metadata": {
        "id": "bPZ6mwT5i7dE",
        "colab_type": "code",
        "colab": {}
      },
      "source": [
        "glove_path = \"/content/drive/My Drive/Fake news classifier/glove.6B.100d.txt\"\n",
        "train_path = \"/content/drive/My Drive/Fake news classifier/train.csv\"\n",
        "test_path = \"/content/drive/My Drive/Fake news classifier/test.csv\""
      ],
      "execution_count": null,
      "outputs": []
    },
    {
      "cell_type": "code",
      "metadata": {
        "id": "iaGHYWzWjAcH",
        "colab_type": "code",
        "colab": {}
      },
      "source": [
        "df_train = pd.read_csv(train_path)\n",
        "df_test = pd.read_csv(test_path)"
      ],
      "execution_count": null,
      "outputs": []
    },
    {
      "cell_type": "code",
      "metadata": {
        "id": "G9r5_rAejLQI",
        "colab_type": "code",
        "colab": {
          "base_uri": "https://localhost:8080/",
          "height": 51
        },
        "outputId": "755a1358-d972-4f86-c668-63c64882a347"
      },
      "source": [
        "print(df_train.shape)\n",
        "print(df_test.shape)"
      ],
      "execution_count": null,
      "outputs": [
        {
          "output_type": "stream",
          "text": [
            "(20800, 5)\n",
            "(5200, 4)\n"
          ],
          "name": "stdout"
        }
      ]
    },
    {
      "cell_type": "code",
      "metadata": {
        "id": "bJZdh3qRck3Q",
        "colab_type": "code",
        "colab": {}
      },
      "source": [
        "\n",
        "print(\"missing values in train \\n\",df_train.isna().sum())\n",
        "print(\"missing values in test \\n\",df_test.isna().sum())"
      ],
      "execution_count": null,
      "outputs": []
    },
    {
      "cell_type": "markdown",
      "metadata": {
        "id": "pl1P0SqUhyEz",
        "colab_type": "text"
      },
      "source": [
        "#**Preprocessing**"
      ]
    },
    {
      "cell_type": "code",
      "metadata": {
        "id": "x_Ed_SHgYrNf",
        "colab_type": "code",
        "colab": {}
      },
      "source": [
        "#Preprocessing pipeline\n",
        "def drop_missing(df):\n",
        "  df.dropna(how = 'any', inplace=True)\n",
        "  df.reset_index(drop = True, inplace=True)\n",
        "  return df\n",
        "\n",
        "def drop_cols(df):\n",
        "    if('id' in df.columns):\n",
        "      df.drop(['id', 'author', 'text'], axis = 1, inplace=True) \n",
        "    return df\n",
        "\n",
        "def basic_cleaning(df):\n",
        "  df = df.apply(lambda x: x.astype(str).str.lower()) #apply to all rows, lambda is a temporary function\n",
        "  df = df.apply(lambda x: x.astype(str).str.replace('\\n', \"\"))#remove linebreaks\n",
        "  return df\n",
        "\n",
        "def extensive_cleaning(df):\n",
        "  #cleaning done using regular expressions\n",
        "  df = df.apply(lambda x: x.astype(str).str.replace(r'http[\\w:/\\.]+','URL'))\n",
        "  #urls beginning wiht http followed by any word character set (\\w) or (:) or (.) or (%20)\n",
        "  df = df.apply(lambda x: x.astype(str).str.replace(r'(\\S)+\\.com((\\S)+)?','URL')) \n",
        "  df = df.apply(lambda x: x.astype(str).str.replace(r'[^\\.\\w\\s]','')) #remove everything but characters and punctuation\n",
        "  df = df.apply(lambda x: x.astype(str).str.replace(r'\\.','.')) #replace multiple periods with a single one\n",
        "  df = df.apply(lambda x: x.astype(str).str.replace(r'\\s\\s+',' ')) #replace multiple white space with a single one\n",
        "  return df\n",
        "\n",
        "def lemmatize(X):\n",
        "  corpus = []\n",
        "  for i in range(len(X)):\n",
        "      news = X[i]\n",
        "      news = news.split()\n",
        "      news = [lemmatizer.lemmatize(word) for word in news if not word in stopwords.words('english')]\n",
        "      news = ' '.join(news)\n",
        "      corpus.append(news)\n",
        "  return corpus"
      ],
      "execution_count": null,
      "outputs": []
    },
    {
      "cell_type": "code",
      "metadata": {
        "id": "PpNWmgqWj9Ib",
        "colab_type": "code",
        "colab": {}
      },
      "source": [
        "df_train = drop_missing(df_train)\n",
        "df_train = drop_cols(df_train)\n",
        "df_test = drop_cols(df_test)\n",
        "display(df_train.tail())\n",
        "display(df_test.tail())"
      ],
      "execution_count": null,
      "outputs": []
    },
    {
      "cell_type": "code",
      "metadata": {
        "id": "VIQUEEcokEjd",
        "colab_type": "code",
        "colab": {}
      },
      "source": [
        "df_train = basic_cleaning(df_train)\n",
        "df_test = basic_cleaning(df_test)"
      ],
      "execution_count": null,
      "outputs": []
    },
    {
      "cell_type": "code",
      "metadata": {
        "id": "7V0CyM1pkO7O",
        "colab_type": "code",
        "colab": {}
      },
      "source": [
        "df_train = extensive_cleaning(df_train)\n",
        "df_test = extensive_cleaning(df_test)"
      ],
      "execution_count": null,
      "outputs": []
    },
    {
      "cell_type": "code",
      "metadata": {
        "id": "wfOhsDtDkSHe",
        "colab_type": "code",
        "colab": {
          "base_uri": "https://localhost:8080/",
          "height": 68
        },
        "outputId": "fa96eae2-d72f-4b14-eabd-76ab7a743cc4"
      },
      "source": [
        "train_labels = df_train['label'].astype('int').to_numpy()\n",
        "train_title = df_train['title']\n",
        "test_title = df_test['title']\n",
        "display(train_labels.shape)\n",
        "display(train_title.shape)\n",
        "display(test_title.shape)\n"
      ],
      "execution_count": null,
      "outputs": [
        {
          "output_type": "display_data",
          "data": {
            "text/plain": [
              "(18285,)"
            ]
          },
          "metadata": {
            "tags": []
          }
        },
        {
          "output_type": "display_data",
          "data": {
            "text/plain": [
              "(18285,)"
            ]
          },
          "metadata": {
            "tags": []
          }
        },
        {
          "output_type": "display_data",
          "data": {
            "text/plain": [
              "(5200,)"
            ]
          },
          "metadata": {
            "tags": []
          }
        }
      ]
    },
    {
      "cell_type": "code",
      "metadata": {
        "id": "mzQ14IZ1lTjP",
        "colab_type": "code",
        "colab": {}
      },
      "source": [
        "train_corpus = lemmatize(train_title)\n",
        "test_corpus = lemmatize(test_title)"
      ],
      "execution_count": null,
      "outputs": []
    },
    {
      "cell_type": "markdown",
      "metadata": {
        "id": "jd0NFzYYhAMW",
        "colab_type": "text"
      },
      "source": [
        "#**Glove dictionary**"
      ]
    },
    {
      "cell_type": "code",
      "metadata": {
        "id": "PqNCH1hTlVl1",
        "colab_type": "code",
        "colab": {}
      },
      "source": [
        "# Extract glove dictionary\n",
        "word2glove = {}\n",
        "glove_words = []\n",
        "with open(glove_path, 'r') as f:\n",
        "    for line in f:\n",
        "        values = line.split()\n",
        "        word = values[0]\n",
        "        #values are in list of string format so convert to vector\n",
        "        vector = np.asarray(values[1:], \"float32\")\n",
        "        word2glove[word] = vector\n",
        "        glove_words.append(word)\n",
        "EMBEDDING_DIM = len(vector)"
      ],
      "execution_count": null,
      "outputs": []
    },
    {
      "cell_type": "code",
      "metadata": {
        "id": "VnTZVO81lwaM",
        "colab_type": "code",
        "colab": {
          "base_uri": "https://localhost:8080/",
          "height": 384
        },
        "outputId": "6dbdf1b9-9745-4844-9a7d-e86fd530d23a"
      },
      "source": [
        "corpus = train_corpus\n",
        "#PREPARE GLOVE DICTIONARY FOR ENCODING NEWS--->\n",
        "all_text = ' '.join(corpus)\n",
        "from collections import Counter\n",
        "words = all_text.split()\n",
        "corpus_u_words_counter = Counter(words).most_common() #tuple of unique words, frequency\n",
        "corpus_u_words_frequent = [word[0] for word in corpus_u_words_counter if word[1]> WORD_FREQUENCY] #keep only words which have occured more than 5 times for deciding about words not in glove later\n",
        "corpus_u_words = [word for word, count in corpus_u_words_counter]\n",
        "\n",
        "glove_words_index = dict(zip(glove_words, range(len(glove_words))))\n",
        "\n",
        "#filter corpus words --> words in glove / not in glove.. use a boolean array to reduce comparisons\n",
        "#glove_word_index is a hash table --> quick search\n",
        "is_corpus_word_in_glove = np.array([w in glove_words_index for w in corpus_u_words])\n",
        "words_in_glove = [word for word, is_true in zip(corpus_u_words, is_corpus_word_in_glove)  if is_true]\n",
        "words_not_in_glove = [word for word, is_true in zip(corpus_u_words, is_corpus_word_in_glove)  if not is_true]\n",
        "freq_words_not_in_glove = [w for w in words_not_in_glove if w in corpus_u_words_frequent]\n",
        "\n",
        "# create the dictionary of glove weights\n",
        "word2index = dict(zip(words_in_glove, range(len(words_in_glove)))) #we have weights for this! --> fixed\n",
        "freq_words_not_in_glove_index = dict(zip(freq_words_not_in_glove, range(len(word2index), len(word2index)+len(freq_words_not_in_glove)))) #we have to learn weights for this --> train embedding\n",
        "word2index = dict(**word2index, **freq_words_not_in_glove_index) \n",
        "#creating dummy word for oov words\n",
        "word2index['<Other>'] = len(word2index) #all others are accounted as other tag and one common embedding is learnt --> train embedding\n",
        "\n",
        "#histogram of title word length\n",
        "plt.hist([len(t.split()) for t in corpus])\n",
        "plt.show()\n",
        "#MAX_NEWS_LENGTH = 25 (from config)\n",
        "\n",
        "#creating a dummy word for padding\n",
        "word2index['<PAD>'] = len(word2index)\n",
        "\n",
        "\n",
        "print(len(corpus_u_words))\n",
        "print(len(corpus_u_words_frequent))\n",
        "print(len(words_in_glove))\n",
        "print(len(freq_words_not_in_glove))\n",
        "print(len(words_not_in_glove))\n",
        "print(len(word2index))\n",
        "print(100*len(words_in_glove)/len(corpus_u_words))\n",
        "\n",
        "\n"
      ],
      "execution_count": null,
      "outputs": [
        {
          "output_type": "display_data",
          "data": {
            "image/png": "[encoded data removed]",
            "text/plain": [
              "<Figure size 432x288 with 1 Axes>"
            ]
          },
          "metadata": {
            "tags": [],
            "needs_background": "light"
          }
        },
        {
          "output_type": "stream",
          "text": [
            "20408\n",
            "4044\n",
            "16735\n",
            "73\n",
            "3673\n",
            "16810\n",
            "82.00215601724814\n"
          ],
          "name": "stdout"
        }
      ]
    },
    {
      "cell_type": "markdown",
      "metadata": {
        "id": "GfsgyCI0hlR-",
        "colab_type": "text"
      },
      "source": [
        "#**Encoding news title**"
      ]
    },
    {
      "cell_type": "code",
      "metadata": {
        "id": "k28Sc7Uml0zT",
        "colab_type": "code",
        "colab": {}
      },
      "source": [
        "def encode_news(corpus):\n",
        "  encoded_news = []\n",
        "  for news in corpus:\n",
        "    int_news = [word2index[word] if word in word2index else word2index['<Other>'] for word in news.split()] \n",
        "    encoded_news.append(int_news)\n",
        "  return encoded_news"
      ],
      "execution_count": null,
      "outputs": []
    },
    {
      "cell_type": "code",
      "metadata": {
        "id": "8JfH_GMqo25r",
        "colab_type": "code",
        "colab": {}
      },
      "source": [
        "def pad_news(encoded_news):\n",
        "  for i, news in zip(range(len(encoded_news)), encoded_news):\n",
        "    if (len(news) < MAX_NEWS_LENGTH):\n",
        "      encoded_news[i] = [word2index['<PAD>']]*(MAX_NEWS_LENGTH - len(news)) + news\n",
        "    elif (len(news) > MAX_NEWS_LENGTH):\n",
        "      encoded_news[i] = news[:MAX_NEWS_LENGTH]\n",
        "    else:\n",
        "      continue\n",
        "  return encoded_news"
      ],
      "execution_count": null,
      "outputs": []
    },
    {
      "cell_type": "code",
      "metadata": {
        "id": "--fU7HLZnlWO",
        "colab_type": "code",
        "colab": {}
      },
      "source": [
        "encoded_train_news = encode_news(train_corpus)\n",
        "encoded_test_news = encode_news(test_corpus)"
      ],
      "execution_count": null,
      "outputs": []
    },
    {
      "cell_type": "code",
      "metadata": {
        "id": "eNPYfNHIpD7Z",
        "colab_type": "code",
        "colab": {}
      },
      "source": [
        "encoded_train_news = pad_news(encoded_train_news)\n",
        "encoded_test_news = pad_news(encoded_test_news)"
      ],
      "execution_count": null,
      "outputs": []
    },
    {
      "cell_type": "code",
      "metadata": {
        "id": "VmhSVfb4mjLa",
        "colab_type": "code",
        "colab": {}
      },
      "source": [
        "train_input = np.array(encoded_train_news)\n",
        "train_label = train_labels.reshape(-1, 1)\n",
        "test_input = np.array(encoded_test_news)"
      ],
      "execution_count": null,
      "outputs": []
    },
    {
      "cell_type": "markdown",
      "metadata": {
        "id": "iO6olFKph8EJ",
        "colab_type": "text"
      },
      "source": [
        "#**Model training**"
      ]
    },
    {
      "cell_type": "code",
      "metadata": {
        "id": "Kh31ZQ_tmmpM",
        "colab_type": "code",
        "colab": {
          "base_uri": "https://localhost:8080/",
          "height": 51
        },
        "outputId": "5fb417f0-8a6c-4c8c-b62d-c0d963bff8ad"
      },
      "source": [
        "print(train_input.shape)\n",
        "print(train_label.shape)"
      ],
      "execution_count": null,
      "outputs": [
        {
          "output_type": "stream",
          "text": [
            "(18285, 25)\n",
            "(18285, 1)\n"
          ],
          "name": "stdout"
        }
      ]
    },
    {
      "cell_type": "code",
      "metadata": {
        "id": "eWVHE5sRtpQI",
        "colab_type": "code",
        "colab": {}
      },
      "source": [
        "from keras.engine.topology import Layer\n",
        "import keras.backend as K\n",
        "from keras import initializers\n",
        "\n",
        "class Embedding2(Layer):\n",
        "\n",
        "    def __init__(self, input_dim, output_dim, fixed_weights, embeddings_initializer='uniform', \n",
        "                 input_length=None, **kwargs):\n",
        "        kwargs['dtype'] = 'int32'\n",
        "        if 'input_shape' not in kwargs:\n",
        "            if input_length:\n",
        "                kwargs['input_shape'] = (input_length,)\n",
        "            else:\n",
        "                kwargs['input_shape'] = (None,)\n",
        "        super(Embedding2, self).__init__(**kwargs)\n",
        "    \n",
        "        self.input_dim = input_dim\n",
        "        self.output_dim = output_dim\n",
        "        self.embeddings_initializer = embeddings_initializer\n",
        "        self.fixed_weights = fixed_weights\n",
        "        self.num_trainable = input_dim - len(fixed_weights)\n",
        "        self.input_length = input_length\n",
        "        \n",
        "        w_mean = fixed_weights.mean(axis=0)\n",
        "        w_std = fixed_weights.std(axis=0)\n",
        "        self.variable_weights = w_mean + w_std*np.random.randn(self.num_trainable, output_dim)\n",
        "\n",
        "    def build(self, input_shape, name='embeddings'):        \n",
        "        fixed_weight = K.variable(self.fixed_weights, name=name+'_fixed')\n",
        "        variable_weight = K.variable(self.variable_weights, name=name+'_var')\n",
        "        \n",
        "        self._trainable_weights.append(variable_weight)\n",
        "        self._non_trainable_weights.append(fixed_weight)\n",
        "        \n",
        "        self.embeddings = K.concatenate([fixed_weight, variable_weight], axis=0)\n",
        "        \n",
        "        self.built = True\n",
        "\n",
        "    def call(self, inputs):\n",
        "        if K.dtype(inputs) != 'int32':\n",
        "            inputs = K.cast(inputs, 'int32')\n",
        "        out = K.gather(self.embeddings, inputs)\n",
        "        return out\n",
        "\n",
        "    def compute_output_shape(self, input_shape):\n",
        "        if not self.input_length:\n",
        "            input_length = input_shape[1]\n",
        "        else:\n",
        "            input_length = self.input_length\n",
        "        return (input_shape[0], input_length, self.output_dim)"
      ],
      "execution_count": null,
      "outputs": []
    },
    {
      "cell_type": "code",
      "metadata": {
        "id": "paQiO0a3moWa",
        "colab_type": "code",
        "colab": {
          "base_uri": "https://localhost:8080/",
          "height": 357
        },
        "outputId": "0ad46894-b942-4fb8-83a3-316bb74ef4af"
      },
      "source": [
        "\n",
        "model = Sequential()\n",
        "model.add(Embedding2(len(word2index) + 1, EMBEDDING_DIM,\n",
        "                    fixed_weights=np.array([word2glove[w] for w in words_in_glove]))) \n",
        "model.add(Dropout(0.3))\n",
        "model.add(Bidirectional(LSTM(MAX_NEWS_LENGTH, dropout=0.25, recurrent_dropout=0.1, kernel_regularizer=regularizers.l2(0.01), \n",
        "                             recurrent_regularizer=regularizers.l2(0.01), bias_regularizer=regularizers.l2(0.01))))\n",
        "model.add(BatchNormalization())\n",
        "model.add(Dropout(0.3))\n",
        "model.add(Dense(1, activation='sigmoid', kernel_regularizer=regularizers.l2(0.01), bias_regularizer=regularizers.l2(0.01)))\n",
        "\n",
        "model.compile(loss='binary_crossentropy', optimizer='rmsprop', metrics=['accuracy'])\n",
        "model.summary()\n"
      ],
      "execution_count": null,
      "outputs": [
        {
          "output_type": "stream",
          "text": [
            "Model: \"sequential_16\"\n",
            "_________________________________________________________________\n",
            "Layer (type)                 Output Shape              Param #   \n",
            "=================================================================\n",
            "embedding2_16 (Embedding2)   (None, None, 100)         1681100   \n",
            "_________________________________________________________________\n",
            "dropout_29 (Dropout)         (None, None, 100)         0         \n",
            "_________________________________________________________________\n",
            "bidirectional_15 (Bidirectio (None, 50)                25200     \n",
            "_________________________________________________________________\n",
            "batch_normalization_5 (Batch (None, 50)                200       \n",
            "_________________________________________________________________\n",
            "dropout_30 (Dropout)         (None, 50)                0         \n",
            "_________________________________________________________________\n",
            "dense_13 (Dense)             (None, 1)                 51        \n",
            "=================================================================\n",
            "Total params: 1,706,551\n",
            "Trainable params: 32,951\n",
            "Non-trainable params: 1,673,600\n",
            "_________________________________________________________________\n"
          ],
          "name": "stdout"
        }
      ]
    },
    {
      "cell_type": "code",
      "metadata": {
        "id": "5v_IFJpGqtpQ",
        "colab_type": "code",
        "colab": {
          "base_uri": "https://localhost:8080/",
          "height": 445
        },
        "outputId": "1eec7a22-743b-450c-a97f-72f7008bcd33"
      },
      "source": [
        "x_train, x_val, y_train, y_val = train_test_split(train_input, train_label, test_size= test_size, random_state=42)\n",
        "history = model.fit(x_train, y_train, batch_size=batch_size, epochs=epochs, validation_data=(x_val, y_val))"
      ],
      "execution_count": null,
      "outputs": [
        {
          "output_type": "stream",
          "text": [
            "Epoch 1/10\n",
            "WARNING:tensorflow:Gradients do not exist for variables ['embedding2_16/embeddings_var:0'] when minimizing the loss.\n",
            "WARNING:tensorflow:Gradients do not exist for variables ['embedding2_16/embeddings_var:0'] when minimizing the loss.\n",
            "WARNING:tensorflow:Gradients do not exist for variables ['embedding2_16/embeddings_var:0'] when minimizing the loss.\n",
            "WARNING:tensorflow:Gradients do not exist for variables ['embedding2_16/embeddings_var:0'] when minimizing the loss.\n",
            "115/115 [==============================] - 10s 84ms/step - loss: 2.1524 - accuracy: 0.8227 - val_loss: 1.3977 - val_accuracy: 0.7391\n",
            "Epoch 2/10\n",
            "115/115 [==============================] - 9s 80ms/step - loss: 0.9669 - accuracy: 0.8826 - val_loss: 0.8230 - val_accuracy: 0.8791\n",
            "Epoch 3/10\n",
            "115/115 [==============================] - 9s 78ms/step - loss: 0.6746 - accuracy: 0.8882 - val_loss: 0.6168 - val_accuracy: 0.8846\n",
            "Epoch 4/10\n",
            "115/115 [==============================] - 9s 78ms/step - loss: 0.5415 - accuracy: 0.8914 - val_loss: 0.4855 - val_accuracy: 0.8890\n",
            "Epoch 5/10\n",
            "115/115 [==============================] - 12s 101ms/step - loss: 0.4534 - accuracy: 0.8920 - val_loss: 0.4163 - val_accuracy: 0.8925\n",
            "Epoch 6/10\n",
            "115/115 [==============================] - 9s 79ms/step - loss: 0.3902 - accuracy: 0.8953 - val_loss: 0.3564 - val_accuracy: 0.8917\n",
            "Epoch 7/10\n",
            "115/115 [==============================] - 9s 79ms/step - loss: 0.3460 - accuracy: 0.8939 - val_loss: 0.3173 - val_accuracy: 0.8901\n",
            "Epoch 8/10\n",
            "115/115 [==============================] - 9s 79ms/step - loss: 0.3202 - accuracy: 0.8932 - val_loss: 0.2982 - val_accuracy: 0.8898\n",
            "Epoch 9/10\n",
            "115/115 [==============================] - 9s 80ms/step - loss: 0.3048 - accuracy: 0.8938 - val_loss: 0.2921 - val_accuracy: 0.8917\n",
            "Epoch 10/10\n",
            "115/115 [==============================] - 9s 79ms/step - loss: 0.2946 - accuracy: 0.8981 - val_loss: 0.2855 - val_accuracy: 0.8923\n"
          ],
          "name": "stdout"
        }
      ]
    },
    {
      "cell_type": "code",
      "metadata": {
        "id": "zmaBzZnuBiZo",
        "colab_type": "code",
        "colab": {}
      },
      "source": [
        "def plot_learningcurve(history):\n",
        "  epoch_range = range(1,epochs+ 1)\n",
        "  plt.plot(epoch_range, history.history['accuracy'])\n",
        "  plt.plot(epoch_range, history.history['val_accuracy'])\n",
        "  plt.title('Model accuracy')\n",
        "  plt.ylabel('Accuracy')\n",
        "  plt.xlabel('epoch')\n",
        "  plt.legend(['train', 'val'], loc = 'upper right')\n",
        "  plt.show()\n",
        "\n",
        "  plt.plot(epoch_range, history.history['loss'])\n",
        "  plt.plot(epoch_range, history.history['val_loss'])\n",
        "  plt.title('Model loss')\n",
        "  plt.ylabel('loss')\n",
        "  plt.xlabel('epoch')\n",
        "  plt.legend(['train', 'val'], loc = 'upper right')\n",
        "  plt.show()"
      ],
      "execution_count": null,
      "outputs": []
    },
    {
      "cell_type": "code",
      "metadata": {
        "id": "3z9XTPYqCPqe",
        "colab_type": "code",
        "colab": {
          "base_uri": "https://localhost:8080/",
          "height": 573
        },
        "outputId": "64a5bfd2-5767-4976-c34c-b9eefb980d72"
      },
      "source": [
        "plot_learningcurve(history)"
      ],
      "execution_count": null,
      "outputs": [
        {
          "output_type": "display_data",
          "data": {
            "image/png": "[encoded data removed]",
            "text/plain": [
              "<Figure size 432x288 with 1 Axes>"
            ]
          },
          "metadata": {
            "tags": [],
            "needs_background": "light"
          }
        },
        {
          "output_type": "display_data",
          "data": {
            "image/png": "[encoded data removed]",
            "text/plain": [
              "<Figure size 432x288 with 1 Axes>"
            ]
          },
          "metadata": {
            "tags": [],
            "needs_background": "light"
          }
        }
      ]
    },
    {
      "cell_type": "code",
      "metadata": {
        "id": "lqtVwNnKBTdA",
        "colab_type": "code",
        "colab": {
          "base_uri": "https://localhost:8080/",
          "height": 697
        },
        "outputId": "35e9c13e-c114-4a78-e72a-cf1e61e9b9c2"
      },
      "source": [
        "history.history"
      ],
      "execution_count": null,
      "outputs": [
        {
          "output_type": "execute_result",
          "data": {
            "text/plain": [
              "{'accuracy': [0.924254834651947,\n",
              "  0.9261006116867065,\n",
              "  0.9297921657562256,\n",
              "  0.9320481419563293,\n",
              "  0.9333469867706299,\n",
              "  0.9362182021141052,\n",
              "  0.9352611303329468,\n",
              "  0.9390894174575806,\n",
              "  0.9414820671081543,\n",
              "  0.9412086606025696],\n",
              " 'loss': [0.17408990859985352,\n",
              "  0.16910891234874725,\n",
              "  0.16582918167114258,\n",
              "  0.16294755041599274,\n",
              "  0.15916723012924194,\n",
              "  0.15297414362430573,\n",
              "  0.1518249213695526,\n",
              "  0.1456872969865799,\n",
              "  0.1451379954814911,\n",
              "  0.1413700431585312],\n",
              " 'val_accuracy': [0.9165983200073242,\n",
              "  0.9174186587333679,\n",
              "  0.9193328022956848,\n",
              "  0.9182389974594116,\n",
              "  0.9119496941566467,\n",
              "  0.9209734797477722,\n",
              "  0.9185124635696411,\n",
              "  0.9239814281463623,\n",
              "  0.911129355430603,\n",
              "  0.9228876233100891],\n",
              " 'val_loss': [0.18964941799640656,\n",
              "  0.1852683424949646,\n",
              "  0.18734565377235413,\n",
              "  0.18857192993164062,\n",
              "  0.22424659132957458,\n",
              "  0.18370412290096283,\n",
              "  0.20596085488796234,\n",
              "  0.177399680018425,\n",
              "  0.25719261169433594,\n",
              "  0.1915874034166336]}"
            ]
          },
          "metadata": {
            "tags": []
          },
          "execution_count": 222
        }
      ]
    },
    {
      "cell_type": "code",
      "metadata": {
        "id": "3unZU_CIrC2r",
        "colab_type": "code",
        "colab": {}
      },
      "source": [
        "test_id = df_test['id']"
      ],
      "execution_count": null,
      "outputs": []
    },
    {
      "cell_type": "code",
      "metadata": {
        "id": "PgvQ3w8erboB",
        "colab_type": "code",
        "colab": {}
      },
      "source": [
        "df_test = drop_cols(df_test)"
      ],
      "execution_count": null,
      "outputs": []
    },
    {
      "cell_type": "code",
      "metadata": {
        "id": "ST5sdtmQrhv3",
        "colab_type": "code",
        "colab": {
          "base_uri": "https://localhost:8080/",
          "height": 68
        },
        "outputId": "cf1e1a71-1687-448d-9eba-32053b94f21f"
      },
      "source": [
        "df_test.isnull().sum()"
      ],
      "execution_count": null,
      "outputs": [
        {
          "output_type": "execute_result",
          "data": {
            "text/plain": [
              "title    0\n",
              "text     0\n",
              "dtype: int64"
            ]
          },
          "metadata": {
            "tags": []
          },
          "execution_count": 49
        }
      ]
    },
    {
      "cell_type": "code",
      "metadata": {
        "id": "hx_rEgdfroyU",
        "colab_type": "code",
        "colab": {
          "base_uri": "https://localhost:8080/",
          "height": 34
        },
        "outputId": "af0950c7-e844-4cc0-ff9e-f2fbdd6c7103"
      },
      "source": [
        "test_input.shape"
      ],
      "execution_count": null,
      "outputs": [
        {
          "output_type": "execute_result",
          "data": {
            "text/plain": [
              "(5200, 25)"
            ]
          },
          "metadata": {
            "tags": []
          },
          "execution_count": 50
        }
      ]
    },
    {
      "cell_type": "code",
      "metadata": {
        "id": "QUDn5vwBrvPa",
        "colab_type": "code",
        "colab": {
          "base_uri": "https://localhost:8080/",
          "height": 88
        },
        "outputId": "6f326f62-2e94-4b0d-f7f8-fa82efdeab3b"
      },
      "source": [
        "predictions = model.predict_classes(test_input)"
      ],
      "execution_count": null,
      "outputs": [
        {
          "output_type": "stream",
          "text": [
            "WARNING:tensorflow:From <ipython-input-51-d4cdfd1ae5f4>:1: Sequential.predict_classes (from tensorflow.python.keras.engine.sequential) is deprecated and will be removed after 2021-01-01.\n",
            "Instructions for updating:\n",
            "Please use instead:* `np.argmax(model.predict(x), axis=-1)`,   if your model does multi-class classification   (e.g. if it uses a `softmax` last-layer activation).* `(model.predict(x) > 0.5).astype(\"int32\")`,   if your model does binary classification   (e.g. if it uses a `sigmoid` last-layer activation).\n"
          ],
          "name": "stdout"
        }
      ]
    },
    {
      "cell_type": "code",
      "metadata": {
        "id": "9LsWxxE-sSmF",
        "colab_type": "code",
        "colab": {
          "base_uri": "https://localhost:8080/",
          "height": 136
        },
        "outputId": "6d176321-2b27-45ab-e845-375f9e38e66b"
      },
      "source": [
        "predictions\n"
      ],
      "execution_count": null,
      "outputs": [
        {
          "output_type": "execute_result",
          "data": {
            "text/plain": [
              "array([[0],\n",
              "       [1],\n",
              "       [1],\n",
              "       ...,\n",
              "       [0],\n",
              "       [1],\n",
              "       [0]], dtype=int32)"
            ]
          },
          "metadata": {
            "tags": []
          },
          "execution_count": 52
        }
      ]
    },
    {
      "cell_type": "code",
      "metadata": {
        "id": "sxEqmQdiu4h3",
        "colab_type": "code",
        "colab": {}
      },
      "source": [
        "df_test['preds'] = predictions"
      ],
      "execution_count": null,
      "outputs": []
    },
    {
      "cell_type": "code",
      "metadata": {
        "id": "9X8AY8-Gu9gq",
        "colab_type": "code",
        "colab": {
          "base_uri": "https://localhost:8080/",
          "height": 71
        },
        "outputId": "88233792-30a2-4bd5-a141-8c85c3ad5959"
      },
      "source": [
        "df_test.iloc[[0]].to_numpy()"
      ],
      "execution_count": null,
      "outputs": [
        {
          "output_type": "execute_result",
          "data": {
            "text/plain": [
              "array([['specter of trump loosens tongues if not purse strings in silicon valley the new york times']],\n",
              "      dtype=object)"
            ]
          },
          "metadata": {
            "tags": []
          },
          "execution_count": 148
        }
      ]
    },
    {
      "cell_type": "code",
      "metadata": {
        "id": "6uAQE0LyvgMl",
        "colab_type": "code",
        "colab": {
          "base_uri": "https://localhost:8080/",
          "height": 34
        },
        "outputId": "197fdf38-d903-4649-f5c4-dcd6965c818a"
      },
      "source": [
        "submission = pd.DataFrame({'id':test_id, 'label':predictions.flatten()})\n",
        "submission.shape"
      ],
      "execution_count": null,
      "outputs": [
        {
          "output_type": "execute_result",
          "data": {
            "text/plain": [
              "(5200, 2)"
            ]
          },
          "metadata": {
            "tags": []
          },
          "execution_count": 55
        }
      ]
    },
    {
      "cell_type": "code",
      "metadata": {
        "id": "XGKPURPVwV4B",
        "colab_type": "code",
        "colab": {}
      },
      "source": [
        "submission.to_csv('submission.csv',index=False)\n"
      ],
      "execution_count": null,
      "outputs": []
    },
    {
      "cell_type": "code",
      "metadata": {
        "id": "i-K87MEZiMRn",
        "colab_type": "code",
        "colab": {}
      },
      "source": [
        "data = {'title':['Fighting for life in Syrias vicious civil war If there is meaning to the word courage, said a Syrian journalist, it is represented by the Civil Defense. Also known as the White Helmets, the trained force of 3,000 rescue workers offer Syrian civilians their only hope', 'How a Texas Ranger convinced serial killer Samuel Little to confess to murdering 93 people', 'Scientists are using MRI scans to reveal the physical makeup of our thoughts and feelings','Artificial intelligence is preserving our ability to converse with Holocaust survivors even after they die', 'Trump Tempers Fears About Wildfires By Drinking Cup Of Flames']} "
      ],
      "execution_count": null,
      "outputs": []
    },
    {
      "cell_type": "code",
      "metadata": {
        "id": "r_ErJRovi-9t",
        "colab_type": "code",
        "colab": {
          "base_uri": "https://localhost:8080/",
          "height": 71
        },
        "outputId": "2105bb7e-8752-4fa3-dde4-277efbfb6c8f"
      },
      "source": [
        "our_df = pd.DataFrame(data) \n",
        "our_df.iloc[[0]].to_numpy()\n"
      ],
      "execution_count": null,
      "outputs": [
        {
          "output_type": "execute_result",
          "data": {
            "text/plain": [
              "array([['Fighting for life in Syrias vicious civil war If there is meaning to the word courage, said a Syrian journalist, it is represented by the Civil Defense. Also known as the White Helmets, the trained force of 3,000 rescue workers offer Syrian civilians their only hope']],\n",
              "      dtype=object)"
            ]
          },
          "metadata": {
            "tags": []
          },
          "execution_count": 266
        }
      ]
    },
    {
      "cell_type": "code",
      "metadata": {
        "id": "KwLzVdMjjvxg",
        "colab_type": "code",
        "colab": {
          "base_uri": "https://localhost:8080/",
          "height": 54
        },
        "outputId": "75cda701-3193-40b1-85ee-8cedce3fda6f"
      },
      "source": [
        "our_df = drop_missing(our_df)\n",
        "our_df = basic_cleaning(our_df)\n",
        "our_df = extensive_cleaning(our_df)\n",
        "print(our_df.iloc[[0]].to_numpy())\n",
        "our_title = our_df['title']"
      ],
      "execution_count": null,
      "outputs": [
        {
          "output_type": "stream",
          "text": [
            "[['fighting for life in syrias vicious civil war if there is meaning to the word courage said a syrian journalist it is represented by the civil defense. also known as the white helmets the trained force of 3000 rescue workers offer syrian civilians their only hope']]\n"
          ],
          "name": "stdout"
        }
      ]
    },
    {
      "cell_type": "code",
      "metadata": {
        "id": "VNN8RFTmkDMz",
        "colab_type": "code",
        "colab": {
          "base_uri": "https://localhost:8080/",
          "height": 289
        },
        "outputId": "c85d84f8-2b34-47db-e9b0-203dff599331"
      },
      "source": [
        "our_corpus = lemmatize(our_title)\n",
        "encoded_our_news = encode_news(our_corpus)\n",
        "encoded_our_news = pad_news(encoded_our_news)\n",
        "our_input = np.array(encoded_our_news)\n",
        "print(our_input.shape)\n",
        "our_input"
      ],
      "execution_count": null,
      "outputs": [
        {
          "output_type": "stream",
          "text": [
            "(5, 25)\n"
          ],
          "name": "stdout"
        },
        {
          "output_type": "execute_result",
          "data": {
            "text/plain": [
              "array([[  539,    61,    42, 12884,   464,    14,  5680,   446,  8168,\n",
              "          337,   133,   492,  9257,   464, 16808,  2050,  2340,    29,\n",
              "         6260, 16808,   148,  3674,  2275,   350,   498],\n",
              "       [16809, 16809, 16809, 16809, 16809, 16809, 16809, 16809, 16809,\n",
              "        16809, 16809, 16809, 16809, 16809,   121,  5188,  9396,  3238,\n",
              "          981, 10206,   570, 16808,  2746,  4206,    46],\n",
              "       [16809, 16809, 16809, 16809, 16809, 16809, 16809, 16809, 16809,\n",
              "        16809, 16809, 16809, 16809, 16809, 16809, 16809,   407,   460,\n",
              "         9423,  4904,   825,  3787,  2860,   764,  1690],\n",
              "       [16809, 16809, 16809, 16809, 16809, 16809, 16809, 16809, 16809,\n",
              "        16809, 16809, 16809, 16809, 16809, 16809, 16809,  3262,   519,\n",
              "         8978,  6664, 16808,  1936,  1710,   237,   521],\n",
              "       [16809, 16809, 16809, 16809, 16809, 16809, 16809, 16809, 16809,\n",
              "        16809, 16809, 16809, 16809, 16809, 16809, 16809, 16809, 16809,\n",
              "            3, 11819,   232,  3591,  1827,  2852,  8652]])"
            ]
          },
          "metadata": {
            "tags": []
          },
          "execution_count": 268
        }
      ]
    },
    {
      "cell_type": "code",
      "metadata": {
        "id": "tEs6X_YjmVKR",
        "colab_type": "code",
        "colab": {
          "base_uri": "https://localhost:8080/",
          "height": 102
        },
        "outputId": "39bac305-a4d6-446b-d780-15b898f98f58"
      },
      "source": [
        "model.predict_classes(our_input)"
      ],
      "execution_count": null,
      "outputs": [
        {
          "output_type": "execute_result",
          "data": {
            "text/plain": [
              "array([[1],\n",
              "       [1],\n",
              "       [1],\n",
              "       [1],\n",
              "       [1]], dtype=int32)"
            ]
          },
          "metadata": {
            "tags": []
          },
          "execution_count": 270
        }
      ]
    }
  ]
}