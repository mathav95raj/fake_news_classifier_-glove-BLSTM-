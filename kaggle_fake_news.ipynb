{
  "nbformat": 4,
  "nbformat_minor": 0,
  "metadata": {
    "colab": {
      "name": "kaggle_fake_news.ipynb",
      "provenance": []
    },
    "kernelspec": {
      "name": "python3",
      "display_name": "Python 3"
    }
  },
  "cells": [
    {
      "cell_type": "code",
      "metadata": {
        "id": "GCkuSkkiikcG",
        "colab_type": "code",
        "colab": {
          "base_uri": "https://localhost:8080/",
          "height": 85
        },
        "outputId": "916d2f0a-f4dc-41fd-c2e6-6092b2f65a45"
      },
      "source": [
        "import nltk\n",
        "nltk.download('stopwords')\n",
        "nltk.download('wordnet')\n",
        "from nltk.stem import WordNetLemmatizer \n",
        "lemmatizer = WordNetLemmatizer() \n",
        "from tensorflow.keras import regularizers, initializers, optimizers, callbacks\n",
        "from tensorflow.keras.preprocessing.sequence import pad_sequences\n",
        "from tensorflow.keras.preprocessing.text import Tokenizer\n",
        "from keras.utils.np_utils import to_categorical\n",
        "from tensorflow.keras.layers import *\n",
        "from tensorflow.keras.models import Sequential\n",
        "from sklearn.model_selection import train_test_split\n",
        "import pandas as pd\n",
        "import numpy as np\n",
        "import matplotlib.pyplot as plt"
      ],
      "execution_count": 65,
      "outputs": [
        {
          "output_type": "stream",
          "text": [
            "[nltk_data] Downloading package stopwords to /root/nltk_data...\n",
            "[nltk_data]   Package stopwords is already up-to-date!\n",
            "[nltk_data] Downloading package wordnet to /root/nltk_data...\n",
            "[nltk_data]   Package wordnet is already up-to-date!\n"
          ],
          "name": "stdout"
        }
      ]
    },
    {
      "cell_type": "code",
      "metadata": {
        "id": "bPZ6mwT5i7dE",
        "colab_type": "code",
        "colab": {}
      },
      "source": [
        "glove_path = \"/content/drive/My Drive/Fake news classifier/glove.6B.100d.txt\"\n",
        "train_path = \"/content/drive/My Drive/Fake news classifier/train.csv\"\n",
        "test_path = \"/content/drive/My Drive/Fake news classifier/test.csv\""
      ],
      "execution_count": 66,
      "outputs": []
    },
    {
      "cell_type": "code",
      "metadata": {
        "id": "iaGHYWzWjAcH",
        "colab_type": "code",
        "colab": {}
      },
      "source": [
        "df_train = pd.read_csv(train_path)\n",
        "df_test = pd.read_csv(test_path)"
      ],
      "execution_count": 67,
      "outputs": []
    },
    {
      "cell_type": "code",
      "metadata": {
        "id": "G9r5_rAejLQI",
        "colab_type": "code",
        "colab": {
          "base_uri": "https://localhost:8080/",
          "height": 51
        },
        "outputId": "e645743c-afa4-44d2-a370-1c56223174cc"
      },
      "source": [
        "print(df_train.shape)\n",
        "print(df_test.shape)"
      ],
      "execution_count": 68,
      "outputs": [
        {
          "output_type": "stream",
          "text": [
            "(20800, 5)\n",
            "(5200, 4)\n"
          ],
          "name": "stdout"
        }
      ]
    },
    {
      "cell_type": "code",
      "metadata": {
        "id": "5eFYOLmZjQBp",
        "colab_type": "code",
        "colab": {
          "base_uri": "https://localhost:8080/",
          "height": 419
        },
        "outputId": "c286bc39-8c3f-4d71-a8e8-28aaaaaf00b6"
      },
      "source": [
        "df_train"
      ],
      "execution_count": 69,
      "outputs": [
        {
          "output_type": "execute_result",
          "data": {
            "text/html": [
              "<div>\n",
              "<style scoped>\n",
              "    .dataframe tbody tr th:only-of-type {\n",
              "        vertical-align: middle;\n",
              "    }\n",
              "\n",
              "    .dataframe tbody tr th {\n",
              "        vertical-align: top;\n",
              "    }\n",
              "\n",
              "    .dataframe thead th {\n",
              "        text-align: right;\n",
              "    }\n",
              "</style>\n",
              "<table border=\"1\" class=\"dataframe\">\n",
              "  <thead>\n",
              "    <tr style=\"text-align: right;\">\n",
              "      <th></th>\n",
              "      <th>id</th>\n",
              "      <th>title</th>\n",
              "      <th>author</th>\n",
              "      <th>text</th>\n",
              "      <th>label</th>\n",
              "    </tr>\n",
              "  </thead>\n",
              "  <tbody>\n",
              "    <tr>\n",
              "      <th>0</th>\n",
              "      <td>0</td>\n",
              "      <td>House Dem Aide: We Didn’t Even See Comey’s Let...</td>\n",
              "      <td>Darrell Lucus</td>\n",
              "      <td>House Dem Aide: We Didn’t Even See Comey’s Let...</td>\n",
              "      <td>1</td>\n",
              "    </tr>\n",
              "    <tr>\n",
              "      <th>1</th>\n",
              "      <td>1</td>\n",
              "      <td>FLYNN: Hillary Clinton, Big Woman on Campus - ...</td>\n",
              "      <td>Daniel J. Flynn</td>\n",
              "      <td>Ever get the feeling your life circles the rou...</td>\n",
              "      <td>0</td>\n",
              "    </tr>\n",
              "    <tr>\n",
              "      <th>2</th>\n",
              "      <td>2</td>\n",
              "      <td>Why the Truth Might Get You Fired</td>\n",
              "      <td>Consortiumnews.com</td>\n",
              "      <td>Why the Truth Might Get You Fired October 29, ...</td>\n",
              "      <td>1</td>\n",
              "    </tr>\n",
              "    <tr>\n",
              "      <th>3</th>\n",
              "      <td>3</td>\n",
              "      <td>15 Civilians Killed In Single US Airstrike Hav...</td>\n",
              "      <td>Jessica Purkiss</td>\n",
              "      <td>Videos 15 Civilians Killed In Single US Airstr...</td>\n",
              "      <td>1</td>\n",
              "    </tr>\n",
              "    <tr>\n",
              "      <th>4</th>\n",
              "      <td>4</td>\n",
              "      <td>Iranian woman jailed for fictional unpublished...</td>\n",
              "      <td>Howard Portnoy</td>\n",
              "      <td>Print \\nAn Iranian woman has been sentenced to...</td>\n",
              "      <td>1</td>\n",
              "    </tr>\n",
              "    <tr>\n",
              "      <th>...</th>\n",
              "      <td>...</td>\n",
              "      <td>...</td>\n",
              "      <td>...</td>\n",
              "      <td>...</td>\n",
              "      <td>...</td>\n",
              "    </tr>\n",
              "    <tr>\n",
              "      <th>20795</th>\n",
              "      <td>20795</td>\n",
              "      <td>Rapper T.I.: Trump a ’Poster Child For White S...</td>\n",
              "      <td>Jerome Hudson</td>\n",
              "      <td>Rapper T. I. unloaded on black celebrities who...</td>\n",
              "      <td>0</td>\n",
              "    </tr>\n",
              "    <tr>\n",
              "      <th>20796</th>\n",
              "      <td>20796</td>\n",
              "      <td>N.F.L. Playoffs: Schedule, Matchups and Odds -...</td>\n",
              "      <td>Benjamin Hoffman</td>\n",
              "      <td>When the Green Bay Packers lost to the Washing...</td>\n",
              "      <td>0</td>\n",
              "    </tr>\n",
              "    <tr>\n",
              "      <th>20797</th>\n",
              "      <td>20797</td>\n",
              "      <td>Macy’s Is Said to Receive Takeover Approach by...</td>\n",
              "      <td>Michael J. de la Merced and Rachel Abrams</td>\n",
              "      <td>The Macy’s of today grew from the union of sev...</td>\n",
              "      <td>0</td>\n",
              "    </tr>\n",
              "    <tr>\n",
              "      <th>20798</th>\n",
              "      <td>20798</td>\n",
              "      <td>NATO, Russia To Hold Parallel Exercises In Bal...</td>\n",
              "      <td>Alex Ansary</td>\n",
              "      <td>NATO, Russia To Hold Parallel Exercises In Bal...</td>\n",
              "      <td>1</td>\n",
              "    </tr>\n",
              "    <tr>\n",
              "      <th>20799</th>\n",
              "      <td>20799</td>\n",
              "      <td>What Keeps the F-35 Alive</td>\n",
              "      <td>David Swanson</td>\n",
              "      <td>David Swanson is an author, activist, journa...</td>\n",
              "      <td>1</td>\n",
              "    </tr>\n",
              "  </tbody>\n",
              "</table>\n",
              "<p>20800 rows × 5 columns</p>\n",
              "</div>"
            ],
            "text/plain": [
              "          id  ... label\n",
              "0          0  ...     1\n",
              "1          1  ...     0\n",
              "2          2  ...     1\n",
              "3          3  ...     1\n",
              "4          4  ...     1\n",
              "...      ...  ...   ...\n",
              "20795  20795  ...     0\n",
              "20796  20796  ...     0\n",
              "20797  20797  ...     0\n",
              "20798  20798  ...     1\n",
              "20799  20799  ...     1\n",
              "\n",
              "[20800 rows x 5 columns]"
            ]
          },
          "metadata": {
            "tags": []
          },
          "execution_count": 69
        }
      ]
    },
    {
      "cell_type": "code",
      "metadata": {
        "id": "LrsDDykbjQ47",
        "colab_type": "code",
        "colab": {}
      },
      "source": [
        "def drop_missing(df):\n",
        "  df.dropna(how = 'any', inplace=True)\n",
        "  df.reset_index(drop = True, inplace=True)\n",
        "  return df\n",
        "\n",
        "def drop_cols(df):\n",
        "    if('id' in df.columns):\n",
        "      df.drop(['id', 'author'], axis = 1, inplace=True) \n",
        "    return df"
      ],
      "execution_count": 70,
      "outputs": []
    },
    {
      "cell_type": "code",
      "metadata": {
        "id": "X-Ei6lC7jegC",
        "colab_type": "code",
        "colab": {
          "base_uri": "https://localhost:8080/",
          "height": 119
        },
        "outputId": "c182bb27-5ddc-433b-9b40-35c64c7ac803"
      },
      "source": [
        "df_train.isna().sum()"
      ],
      "execution_count": 71,
      "outputs": [
        {
          "output_type": "execute_result",
          "data": {
            "text/plain": [
              "id           0\n",
              "title      558\n",
              "author    1957\n",
              "text        39\n",
              "label        0\n",
              "dtype: int64"
            ]
          },
          "metadata": {
            "tags": []
          },
          "execution_count": 71
        }
      ]
    },
    {
      "cell_type": "code",
      "metadata": {
        "id": "PpNWmgqWj9Ib",
        "colab_type": "code",
        "colab": {
          "base_uri": "https://localhost:8080/",
          "height": 34
        },
        "outputId": "99f7a114-9aab-4f34-d63f-210675c11573"
      },
      "source": [
        "df_train = drop_missing(df_train)\n",
        "df_train = drop_cols(df_train)\n",
        "print(df_train.shape)"
      ],
      "execution_count": 72,
      "outputs": [
        {
          "output_type": "stream",
          "text": [
            "(18285, 3)\n"
          ],
          "name": "stdout"
        }
      ]
    },
    {
      "cell_type": "code",
      "metadata": {
        "id": "lCTxoRKOTWtn",
        "colab_type": "code",
        "colab": {}
      },
      "source": [
        "def basic_cleaning(df):\n",
        "  df = df.apply(lambda x: x.astype(str).str.lower()) #apply to all rows, lambda is a temporary function\n",
        "  df = df.apply(lambda x: x.astype(str).str.replace('\\n', \"\"))#remove linebreaks\n",
        "  return df"
      ],
      "execution_count": 73,
      "outputs": []
    },
    {
      "cell_type": "code",
      "metadata": {
        "id": "VIQUEEcokEjd",
        "colab_type": "code",
        "colab": {
          "base_uri": "https://localhost:8080/",
          "height": 821
        },
        "outputId": "6073faa4-2197-4d87-cdfe-25aa39dfbfbf"
      },
      "source": [
        "df_train = basic_cleaning(df_train)\n",
        "df_test = basic_cleaning(df_test)\n",
        "display(df_train)\n",
        "display(df_test)"
      ],
      "execution_count": 74,
      "outputs": [
        {
          "output_type": "display_data",
          "data": {
            "text/html": [
              "<div>\n",
              "<style scoped>\n",
              "    .dataframe tbody tr th:only-of-type {\n",
              "        vertical-align: middle;\n",
              "    }\n",
              "\n",
              "    .dataframe tbody tr th {\n",
              "        vertical-align: top;\n",
              "    }\n",
              "\n",
              "    .dataframe thead th {\n",
              "        text-align: right;\n",
              "    }\n",
              "</style>\n",
              "<table border=\"1\" class=\"dataframe\">\n",
              "  <thead>\n",
              "    <tr style=\"text-align: right;\">\n",
              "      <th></th>\n",
              "      <th>title</th>\n",
              "      <th>text</th>\n",
              "      <th>label</th>\n",
              "    </tr>\n",
              "  </thead>\n",
              "  <tbody>\n",
              "    <tr>\n",
              "      <th>0</th>\n",
              "      <td>house dem aide: we didn’t even see comey’s let...</td>\n",
              "      <td>house dem aide: we didn’t even see comey’s let...</td>\n",
              "      <td>1</td>\n",
              "    </tr>\n",
              "    <tr>\n",
              "      <th>1</th>\n",
              "      <td>flynn: hillary clinton, big woman on campus - ...</td>\n",
              "      <td>ever get the feeling your life circles the rou...</td>\n",
              "      <td>0</td>\n",
              "    </tr>\n",
              "    <tr>\n",
              "      <th>2</th>\n",
              "      <td>why the truth might get you fired</td>\n",
              "      <td>why the truth might get you fired october 29, ...</td>\n",
              "      <td>1</td>\n",
              "    </tr>\n",
              "    <tr>\n",
              "      <th>3</th>\n",
              "      <td>15 civilians killed in single us airstrike hav...</td>\n",
              "      <td>videos 15 civilians killed in single us airstr...</td>\n",
              "      <td>1</td>\n",
              "    </tr>\n",
              "    <tr>\n",
              "      <th>4</th>\n",
              "      <td>iranian woman jailed for fictional unpublished...</td>\n",
              "      <td>print an iranian woman has been sentenced to s...</td>\n",
              "      <td>1</td>\n",
              "    </tr>\n",
              "    <tr>\n",
              "      <th>...</th>\n",
              "      <td>...</td>\n",
              "      <td>...</td>\n",
              "      <td>...</td>\n",
              "    </tr>\n",
              "    <tr>\n",
              "      <th>18280</th>\n",
              "      <td>rapper t.i.: trump a ’poster child for white s...</td>\n",
              "      <td>rapper t. i. unloaded on black celebrities who...</td>\n",
              "      <td>0</td>\n",
              "    </tr>\n",
              "    <tr>\n",
              "      <th>18281</th>\n",
              "      <td>n.f.l. playoffs: schedule, matchups and odds -...</td>\n",
              "      <td>when the green bay packers lost to the washing...</td>\n",
              "      <td>0</td>\n",
              "    </tr>\n",
              "    <tr>\n",
              "      <th>18282</th>\n",
              "      <td>macy’s is said to receive takeover approach by...</td>\n",
              "      <td>the macy’s of today grew from the union of sev...</td>\n",
              "      <td>0</td>\n",
              "    </tr>\n",
              "    <tr>\n",
              "      <th>18283</th>\n",
              "      <td>nato, russia to hold parallel exercises in bal...</td>\n",
              "      <td>nato, russia to hold parallel exercises in bal...</td>\n",
              "      <td>1</td>\n",
              "    </tr>\n",
              "    <tr>\n",
              "      <th>18284</th>\n",
              "      <td>what keeps the f-35 alive</td>\n",
              "      <td>david swanson is an author, activist, journa...</td>\n",
              "      <td>1</td>\n",
              "    </tr>\n",
              "  </tbody>\n",
              "</table>\n",
              "<p>18285 rows × 3 columns</p>\n",
              "</div>"
            ],
            "text/plain": [
              "                                                   title  ... label\n",
              "0      house dem aide: we didn’t even see comey’s let...  ...     1\n",
              "1      flynn: hillary clinton, big woman on campus - ...  ...     0\n",
              "2                      why the truth might get you fired  ...     1\n",
              "3      15 civilians killed in single us airstrike hav...  ...     1\n",
              "4      iranian woman jailed for fictional unpublished...  ...     1\n",
              "...                                                  ...  ...   ...\n",
              "18280  rapper t.i.: trump a ’poster child for white s...  ...     0\n",
              "18281  n.f.l. playoffs: schedule, matchups and odds -...  ...     0\n",
              "18282  macy’s is said to receive takeover approach by...  ...     0\n",
              "18283  nato, russia to hold parallel exercises in bal...  ...     1\n",
              "18284                          what keeps the f-35 alive  ...     1\n",
              "\n",
              "[18285 rows x 3 columns]"
            ]
          },
          "metadata": {
            "tags": []
          }
        },
        {
          "output_type": "display_data",
          "data": {
            "text/html": [
              "<div>\n",
              "<style scoped>\n",
              "    .dataframe tbody tr th:only-of-type {\n",
              "        vertical-align: middle;\n",
              "    }\n",
              "\n",
              "    .dataframe tbody tr th {\n",
              "        vertical-align: top;\n",
              "    }\n",
              "\n",
              "    .dataframe thead th {\n",
              "        text-align: right;\n",
              "    }\n",
              "</style>\n",
              "<table border=\"1\" class=\"dataframe\">\n",
              "  <thead>\n",
              "    <tr style=\"text-align: right;\">\n",
              "      <th></th>\n",
              "      <th>id</th>\n",
              "      <th>title</th>\n",
              "      <th>author</th>\n",
              "      <th>text</th>\n",
              "    </tr>\n",
              "  </thead>\n",
              "  <tbody>\n",
              "    <tr>\n",
              "      <th>0</th>\n",
              "      <td>20800</td>\n",
              "      <td>specter of trump loosens tongues, if not purse...</td>\n",
              "      <td>david streitfeld</td>\n",
              "      <td>palo alto, calif.  —   after years of scorning...</td>\n",
              "    </tr>\n",
              "    <tr>\n",
              "      <th>1</th>\n",
              "      <td>20801</td>\n",
              "      <td>russian warships ready to strike terrorists ne...</td>\n",
              "      <td>nan</td>\n",
              "      <td>russian warships ready to strike terrorists ne...</td>\n",
              "    </tr>\n",
              "    <tr>\n",
              "      <th>2</th>\n",
              "      <td>20802</td>\n",
              "      <td>#nodapl: native american leaders vow to stay a...</td>\n",
              "      <td>common dreams</td>\n",
              "      <td>videos #nodapl: native american leaders vow to...</td>\n",
              "    </tr>\n",
              "    <tr>\n",
              "      <th>3</th>\n",
              "      <td>20803</td>\n",
              "      <td>tim tebow will attempt another comeback, this ...</td>\n",
              "      <td>daniel victor</td>\n",
              "      <td>if at first you don’t succeed, try a different...</td>\n",
              "    </tr>\n",
              "    <tr>\n",
              "      <th>4</th>\n",
              "      <td>20804</td>\n",
              "      <td>keiser report: meme wars (e995)</td>\n",
              "      <td>truth broadcast network</td>\n",
              "      <td>42 mins ago 1 views 0 comments 0 likes 'for th...</td>\n",
              "    </tr>\n",
              "    <tr>\n",
              "      <th>...</th>\n",
              "      <td>...</td>\n",
              "      <td>...</td>\n",
              "      <td>...</td>\n",
              "      <td>...</td>\n",
              "    </tr>\n",
              "    <tr>\n",
              "      <th>5195</th>\n",
              "      <td>25995</td>\n",
              "      <td>the bangladeshi traffic jam that never ends - ...</td>\n",
              "      <td>jody rosen</td>\n",
              "      <td>of all the dysfunctions that plague the world’...</td>\n",
              "    </tr>\n",
              "    <tr>\n",
              "      <th>5196</th>\n",
              "      <td>25996</td>\n",
              "      <td>john kasich signs one abortion bill in ohio bu...</td>\n",
              "      <td>sheryl gay stolberg</td>\n",
              "      <td>washington  —   gov. john kasich of ohio on tu...</td>\n",
              "    </tr>\n",
              "    <tr>\n",
              "      <th>5197</th>\n",
              "      <td>25997</td>\n",
              "      <td>california today: what, exactly, is in your su...</td>\n",
              "      <td>mike mcphate</td>\n",
              "      <td>good morning. (want to get california today by...</td>\n",
              "    </tr>\n",
              "    <tr>\n",
              "      <th>5198</th>\n",
              "      <td>25998</td>\n",
              "      <td>300 us marines to be deployed to russian borde...</td>\n",
              "      <td>nan</td>\n",
              "      <td>« previous - next » 300 us marines to be deplo...</td>\n",
              "    </tr>\n",
              "    <tr>\n",
              "      <th>5199</th>\n",
              "      <td>25999</td>\n",
              "      <td>awkward sex, onscreen and off - the new york t...</td>\n",
              "      <td>teddy wayne</td>\n",
              "      <td>perhaps you’ve seen the new tv series whose pi...</td>\n",
              "    </tr>\n",
              "  </tbody>\n",
              "</table>\n",
              "<p>5200 rows × 4 columns</p>\n",
              "</div>"
            ],
            "text/plain": [
              "         id  ...                                               text\n",
              "0     20800  ...  palo alto, calif.  —   after years of scorning...\n",
              "1     20801  ...  russian warships ready to strike terrorists ne...\n",
              "2     20802  ...  videos #nodapl: native american leaders vow to...\n",
              "3     20803  ...  if at first you don’t succeed, try a different...\n",
              "4     20804  ...  42 mins ago 1 views 0 comments 0 likes 'for th...\n",
              "...     ...  ...                                                ...\n",
              "5195  25995  ...  of all the dysfunctions that plague the world’...\n",
              "5196  25996  ...  washington  —   gov. john kasich of ohio on tu...\n",
              "5197  25997  ...  good morning. (want to get california today by...\n",
              "5198  25998  ...  « previous - next » 300 us marines to be deplo...\n",
              "5199  25999  ...  perhaps you’ve seen the new tv series whose pi...\n",
              "\n",
              "[5200 rows x 4 columns]"
            ]
          },
          "metadata": {
            "tags": []
          }
        }
      ]
    },
    {
      "cell_type": "code",
      "metadata": {
        "id": "cvYpu3nOkIyj",
        "colab_type": "code",
        "colab": {}
      },
      "source": [
        "def extensive_cleaning(df):\n",
        "  #cleaning done using regular expressions\n",
        "  df = df.apply(lambda x: x.astype(str).str.replace(r'http[\\w:/\\.]+','URL'))\n",
        "  #urls beginning wiht http followed by any word character set (\\w) or (:) or (.) or (%20)\n",
        "  df = df.apply(lambda x: x.astype(str).str.replace(r'(\\S)+\\.com((\\S)+)?','URL')) \n",
        "  df = df.apply(lambda x: x.astype(str).str.replace(r'[^\\.\\w\\s]','')) #remove everything but characters and punctuation\n",
        "  df = df.apply(lambda x: x.astype(str).str.replace(r'\\.','.')) #replace multiple periods with a single one\n",
        "  df = df.apply(lambda x: x.astype(str).str.replace(r'\\s\\s+',' ')) #replace multiple white space with a single one\n",
        "  return df"
      ],
      "execution_count": 75,
      "outputs": []
    },
    {
      "cell_type": "code",
      "metadata": {
        "id": "7V0CyM1pkO7O",
        "colab_type": "code",
        "colab": {}
      },
      "source": [
        "df_train = extensive_cleaning(df_train)\n",
        "df_test = extensive_cleaning(df_test)"
      ],
      "execution_count": 76,
      "outputs": []
    },
    {
      "cell_type": "code",
      "metadata": {
        "id": "wfOhsDtDkSHe",
        "colab_type": "code",
        "colab": {
          "base_uri": "https://localhost:8080/",
          "height": 34
        },
        "outputId": "72e228f2-4a1c-4ecb-e19a-0405d4aa4b85"
      },
      "source": [
        "train_labels = df_train['label'].astype('int').to_numpy()\n",
        "train_title = df_train['title']\n",
        "test_title = df_test['title']\n",
        "display(train_labels.shape)"
      ],
      "execution_count": 77,
      "outputs": [
        {
          "output_type": "display_data",
          "data": {
            "text/plain": [
              "(18285,)"
            ]
          },
          "metadata": {
            "tags": []
          }
        }
      ]
    },
    {
      "cell_type": "code",
      "metadata": {
        "id": "YyB1sv9tkWPX",
        "colab_type": "code",
        "colab": {}
      },
      "source": [
        "def lemmatize(X):\n",
        "  corpus = []\n",
        "  for i in range(len(X)):\n",
        "      news = X[i]\n",
        "      news = news.split()\n",
        "      news = [lemmatizer.lemmatize(word) for word in news if not word in stopwords.words('english')]\n",
        "      news = ' '.join(news)\n",
        "      corpus.append(news)\n",
        "  return corpus"
      ],
      "execution_count": 78,
      "outputs": []
    },
    {
      "cell_type": "code",
      "metadata": {
        "id": "mzQ14IZ1lTjP",
        "colab_type": "code",
        "colab": {}
      },
      "source": [
        "train_corpus = lemmatize(train_title)\n",
        "test_corpus = lemmatize(test_title)"
      ],
      "execution_count": 79,
      "outputs": []
    },
    {
      "cell_type": "code",
      "metadata": {
        "id": "PqNCH1hTlVl1",
        "colab_type": "code",
        "colab": {}
      },
      "source": [
        "word2glove = {}\n",
        "glove_words = []\n",
        "with open(glove_path, 'r') as f:\n",
        "    for line in f:\n",
        "        values = line.split()\n",
        "        word = values[0]\n",
        "        #values are in list of string format so convert to vector\n",
        "        vector = np.asarray(values[1:], \"float32\")\n",
        "        word2glove[word] = vector\n",
        "        glove_words.append(word)\n",
        "EMBEDDING_DIM = len(vector)"
      ],
      "execution_count": 88,
      "outputs": []
    },
    {
      "cell_type": "code",
      "metadata": {
        "id": "VnTZVO81lwaM",
        "colab_type": "code",
        "colab": {
          "base_uri": "https://localhost:8080/",
          "height": 418
        },
        "outputId": "3234acbd-d330-4c1c-ca8e-8c794162065d"
      },
      "source": [
        "corpus = train_corpus\n",
        "#PREPARE GLOVE DICTIONARY FOR ENCODING NEWS--->\n",
        "all_text = ' '.join(corpus)\n",
        "from collections import Counter\n",
        "words = all_text.split()\n",
        "corpus_u_words_counter = Counter(words).most_common() #tuple of unique words, frequency\n",
        "corpus_u_words_frequent = [word[0] for word in corpus_u_words_counter if word[1]>5] #keep only words which have occured more than 5 times for deciding about words not in glove later\n",
        "corpus_u_words = [word for word, count in corpus_u_words_counter]\n",
        "\n",
        "glove_words_index = dict(zip(glove_words, range(len(glove_words))))\n",
        "\n",
        "#filter corpus words --> words in glove / not in glove.. use a boolean array to reduce comparisons\n",
        "#glove_word_index is a hash table --> quick search\n",
        "is_corpus_word_in_glove = np.array([w in glove_words_index for w in corpus_u_words])\n",
        "words_in_glove = [word for word, is_true in zip(corpus_u_words, is_corpus_word_in_glove)  if is_true]\n",
        "words_not_in_glove = [word for word, is_true in zip(corpus_u_words, is_corpus_word_in_glove)  if not is_true]\n",
        "freq_words_not_in_glove = [w for w in words_not_in_glove if w in corpus_u_words_frequent]\n",
        "\n",
        "# create the dictionary of glove weights\n",
        "word2index = dict(zip(words_in_glove, range(len(words_in_glove)))) #we have weights for this! --> fixed\n",
        "freq_words_not_in_glove_index = dict(zip(freq_words_not_in_glove, range(len(word2index), len(word2index)+len(freq_words_not_in_glove)))) #we have to learn weights for this --> train embedding\n",
        "word2index = dict(**word2index, **freq_words_not_in_glove_index) \n",
        "word2index['<Other>'] = len(word2index) #all others are accounted as other tag and one common embedding is learnt --> train embedding\n",
        "\n",
        "#histogram of title word length\n",
        "plt.hist([len(t.split()) for t in corpus])\n",
        "plt.show()\n",
        "MAX_NEWS_LENGTH = 25\n",
        "\n",
        "print('The number of news greater than MAX_NEWS_LENGTH in length is: ', np.sum(np.array([len(news)> MAX_NEWS_LENGTH for news in encoded_news])))\n",
        "print('The number of news less than MAX_NEWS_LENGTH in length is: ', np.sum(np.array([len(news)< MAX_NEWS_LENGTH for news in encoded_news])))\n",
        "\n",
        "#PADDING\n",
        "\n",
        "word2index['<PAD>'] = len(word2index)\n",
        "\n",
        "\n",
        "print(len(corpus_u_words))\n",
        "print(len(corpus_u_words_frequent))\n",
        "print(len(words_in_glove))\n",
        "print(len(freq_words_not_in_glove))\n",
        "print(len(words_not_in_glove))\n",
        "print(len(word2index))\n",
        "print(100*len(words_in_glove)/len(corpus_u_words))"
      ],
      "execution_count": 81,
      "outputs": [
        {
          "output_type": "display_data",
          "data": {
            "image/png": "[encoded data removed]",
            "text/plain": [
              "<Figure size 432x288 with 1 Axes>"
            ]
          },
          "metadata": {
            "tags": [],
            "needs_background": "light"
          }
        },
        {
          "output_type": "stream",
          "text": [
            "The number of news greater than MAX_NEWS_LENGTH in length is:  0\n",
            "The number of news less than MAX_NEWS_LENGTH in length is:  0\n",
            "20408\n",
            "4044\n",
            "16735\n",
            "73\n",
            "3673\n",
            "16810\n",
            "82.00215601724814\n"
          ],
          "name": "stdout"
        }
      ]
    },
    {
      "cell_type": "code",
      "metadata": {
        "id": "k28Sc7Uml0zT",
        "colab_type": "code",
        "colab": {}
      },
      "source": [
        "def encode_news(corpus):\n",
        "  encoded_news = []\n",
        "  for news in corpus:\n",
        "    int_news = [word2index[word] if word in word2index else word2index['<Other>'] for word in news.split()] \n",
        "    encoded_news.append(int_news)\n",
        "  return encoded_news"
      ],
      "execution_count": 82,
      "outputs": []
    },
    {
      "cell_type": "code",
      "metadata": {
        "id": "--fU7HLZnlWO",
        "colab_type": "code",
        "colab": {}
      },
      "source": [
        "encoded_train_news = encode_news(train_corpus)\n",
        "encoded_test_news = encode_news(test_corpus)"
      ],
      "execution_count": 83,
      "outputs": []
    },
    {
      "cell_type": "code",
      "metadata": {
        "id": "8JfH_GMqo25r",
        "colab_type": "code",
        "colab": {}
      },
      "source": [
        "def pad_news(encoded_news):\n",
        "  for i, news in zip(range(len(encoded_news)), encoded_news):\n",
        "    if (len(news) < MAX_NEWS_LENGTH):\n",
        "      encoded_news[i] = [word2index['<PAD>']]*(MAX_NEWS_LENGTH - len(news)) + news\n",
        "    elif (len(news) > MAX_NEWS_LENGTH):\n",
        "      encoded_news[i] = news[:MAX_NEWS_LENGTH]\n",
        "    else:\n",
        "      continue\n",
        "  return encoded_news"
      ],
      "execution_count": 84,
      "outputs": []
    },
    {
      "cell_type": "code",
      "metadata": {
        "id": "eNPYfNHIpD7Z",
        "colab_type": "code",
        "colab": {}
      },
      "source": [
        "encoded_train_news = pad_news(encoded_train_news)\n",
        "encoded_test_news = pad_news(encoded_test_news)"
      ],
      "execution_count": 85,
      "outputs": []
    },
    {
      "cell_type": "code",
      "metadata": {
        "id": "VmhSVfb4mjLa",
        "colab_type": "code",
        "colab": {}
      },
      "source": [
        "train_input = np.array(encoded_train_news)\n",
        "train_label = train_labels.reshape(-1, 1)\n",
        "test_input = np.array(encoded_test_news)"
      ],
      "execution_count": 86,
      "outputs": []
    },
    {
      "cell_type": "code",
      "metadata": {
        "id": "Kh31ZQ_tmmpM",
        "colab_type": "code",
        "colab": {
          "base_uri": "https://localhost:8080/",
          "height": 51
        },
        "outputId": "9b4bc49d-38bb-47aa-8d5f-8698f5c35626"
      },
      "source": [
        "print(train_input.shape)\n",
        "print(train_label.shape)"
      ],
      "execution_count": 87,
      "outputs": [
        {
          "output_type": "stream",
          "text": [
            "(18285, 25)\n",
            "(18285, 1)\n"
          ],
          "name": "stdout"
        }
      ]
    },
    {
      "cell_type": "code",
      "metadata": {
        "id": "eWVHE5sRtpQI",
        "colab_type": "code",
        "colab": {}
      },
      "source": [
        "from keras.engine.topology import Layer\n",
        "import keras.backend as K\n",
        "from keras import initializers\n",
        "import numpy as np\n",
        "\n",
        "class Embedding2(Layer):\n",
        "\n",
        "    def __init__(self, input_dim, output_dim, fixed_weights, embeddings_initializer='uniform', \n",
        "                 input_length=None, **kwargs):\n",
        "        kwargs['dtype'] = 'int32'\n",
        "        if 'input_shape' not in kwargs:\n",
        "            if input_length:\n",
        "                kwargs['input_shape'] = (input_length,)\n",
        "            else:\n",
        "                kwargs['input_shape'] = (None,)\n",
        "        super(Embedding2, self).__init__(**kwargs)\n",
        "    \n",
        "        self.input_dim = input_dim\n",
        "        self.output_dim = output_dim\n",
        "        self.embeddings_initializer = embeddings_initializer\n",
        "        self.fixed_weights = fixed_weights\n",
        "        self.num_trainable = input_dim - len(fixed_weights)\n",
        "        self.input_length = input_length\n",
        "        \n",
        "        w_mean = fixed_weights.mean(axis=0)\n",
        "        w_std = fixed_weights.std(axis=0)\n",
        "        self.variable_weights = w_mean + w_std*np.random.randn(self.num_trainable, output_dim)\n",
        "\n",
        "    def build(self, input_shape, name='embeddings'):        \n",
        "        fixed_weight = K.variable(self.fixed_weights, name=name+'_fixed')\n",
        "        variable_weight = K.variable(self.variable_weights, name=name+'_var')\n",
        "        \n",
        "        self._trainable_weights.append(variable_weight)\n",
        "        self._non_trainable_weights.append(fixed_weight)\n",
        "        \n",
        "        self.embeddings = K.concatenate([fixed_weight, variable_weight], axis=0)\n",
        "        \n",
        "        self.built = True\n",
        "\n",
        "    def call(self, inputs):\n",
        "        if K.dtype(inputs) != 'int32':\n",
        "            inputs = K.cast(inputs, 'int32')\n",
        "        out = K.gather(self.embeddings, inputs)\n",
        "        return out\n",
        "\n",
        "    def compute_output_shape(self, input_shape):\n",
        "        if not self.input_length:\n",
        "            input_length = input_shape[1]\n",
        "        else:\n",
        "            input_length = self.input_length\n",
        "        return (input_shape[0], input_length, self.output_dim)"
      ],
      "execution_count": 100,
      "outputs": []
    },
    {
      "cell_type": "code",
      "metadata": {
        "id": "paQiO0a3moWa",
        "colab_type": "code",
        "colab": {
          "base_uri": "https://localhost:8080/",
          "height": 323
        },
        "outputId": "76d24ad9-89e4-400d-8159-e0a713000e3a"
      },
      "source": [
        "#basic method\n",
        "model = Sequential()\n",
        "model.add(Embedding2(len(word2index) + 1, EMBEDDING_DIM,\n",
        "                    fixed_weights=np.array([word2glove[w] for w in words_in_glove]))) \n",
        "model.add(Dropout(0.3))\n",
        "model.add(Bidirectional(LSTM(MAX_NEWS_LENGTH)))\n",
        "model.add(Dropout(0.3))\n",
        "model.add(Dense(1, activation='sigmoid'))\n",
        "\n",
        "model.compile(loss='binary_crossentropy', optimizer='rmsprop', metrics=['accuracy'])\n",
        "model.summary()\n",
        "batch_size = 128\n",
        "epochs = 5"
      ],
      "execution_count": 101,
      "outputs": [
        {
          "output_type": "stream",
          "text": [
            "Model: \"sequential_1\"\n",
            "_________________________________________________________________\n",
            "Layer (type)                 Output Shape              Param #   \n",
            "=================================================================\n",
            "embedding2 (Embedding2)      (None, None, 100)         1681100   \n",
            "_________________________________________________________________\n",
            "dropout_2 (Dropout)          (None, None, 100)         0         \n",
            "_________________________________________________________________\n",
            "bidirectional_1 (Bidirection (None, 50)                25200     \n",
            "_________________________________________________________________\n",
            "dropout_3 (Dropout)          (None, 50)                0         \n",
            "_________________________________________________________________\n",
            "dense_1 (Dense)              (None, 1)                 51        \n",
            "=================================================================\n",
            "Total params: 1,706,351\n",
            "Trainable params: 32,851\n",
            "Non-trainable params: 1,673,500\n",
            "_________________________________________________________________\n"
          ],
          "name": "stdout"
        }
      ]
    },
    {
      "cell_type": "code",
      "metadata": {
        "id": "5v_IFJpGqtpQ",
        "colab_type": "code",
        "colab": {
          "base_uri": "https://localhost:8080/",
          "height": 272
        },
        "outputId": "3834090b-e035-454f-c8ea-d4a161d42c7c"
      },
      "source": [
        "x_train, x_val, y_train, y_val = train_test_split(train_input, train_label, test_size=0.3, random_state=42)\n",
        "model.fit(x_train, y_train, batch_size=batch_size, epochs=epochs, validation_data=(x_val, y_val))"
      ],
      "execution_count": 102,
      "outputs": [
        {
          "output_type": "stream",
          "text": [
            "Epoch 1/5\n",
            "WARNING:tensorflow:Gradients do not exist for variables ['embedding2/embeddings_var:0'] when minimizing the loss.\n",
            "WARNING:tensorflow:Gradients do not exist for variables ['embedding2/embeddings_var:0'] when minimizing the loss.\n",
            "WARNING:tensorflow:Gradients do not exist for variables ['embedding2/embeddings_var:0'] when minimizing the loss.\n",
            "WARNING:tensorflow:Gradients do not exist for variables ['embedding2/embeddings_var:0'] when minimizing the loss.\n",
            "100/100 [==============================] - 4s 45ms/step - loss: 0.4018 - accuracy: 0.8324 - val_loss: 0.2758 - val_accuracy: 0.8870\n",
            "Epoch 2/5\n",
            "100/100 [==============================] - 4s 36ms/step - loss: 0.2654 - accuracy: 0.8895 - val_loss: 0.2502 - val_accuracy: 0.8952\n",
            "Epoch 3/5\n",
            "100/100 [==============================] - 4s 36ms/step - loss: 0.2385 - accuracy: 0.8992 - val_loss: 0.2459 - val_accuracy: 0.8985\n",
            "Epoch 4/5\n",
            "100/100 [==============================] - 4s 36ms/step - loss: 0.2216 - accuracy: 0.9091 - val_loss: 0.2272 - val_accuracy: 0.8999\n",
            "Epoch 5/5\n",
            "100/100 [==============================] - 4s 36ms/step - loss: 0.2098 - accuracy: 0.9115 - val_loss: 0.2106 - val_accuracy: 0.9058\n"
          ],
          "name": "stdout"
        },
        {
          "output_type": "execute_result",
          "data": {
            "text/plain": [
              "<tensorflow.python.keras.callbacks.History at 0x7ff017531630>"
            ]
          },
          "metadata": {
            "tags": []
          },
          "execution_count": 102
        }
      ]
    },
    {
      "cell_type": "code",
      "metadata": {
        "id": "3unZU_CIrC2r",
        "colab_type": "code",
        "colab": {}
      },
      "source": [
        "test_id = df_test['id']"
      ],
      "execution_count": 92,
      "outputs": []
    },
    {
      "cell_type": "code",
      "metadata": {
        "id": "PgvQ3w8erboB",
        "colab_type": "code",
        "colab": {}
      },
      "source": [
        "df_test = drop_cols(df_test)"
      ],
      "execution_count": 93,
      "outputs": []
    },
    {
      "cell_type": "code",
      "metadata": {
        "id": "ST5sdtmQrhv3",
        "colab_type": "code",
        "colab": {
          "base_uri": "https://localhost:8080/",
          "height": 68
        },
        "outputId": "ea5f7b6e-ae83-40ef-a83f-f99237908a6f"
      },
      "source": [
        "df_test.isnull().sum()"
      ],
      "execution_count": 94,
      "outputs": [
        {
          "output_type": "execute_result",
          "data": {
            "text/plain": [
              "title    0\n",
              "text     0\n",
              "dtype: int64"
            ]
          },
          "metadata": {
            "tags": []
          },
          "execution_count": 94
        }
      ]
    },
    {
      "cell_type": "code",
      "metadata": {
        "id": "hx_rEgdfroyU",
        "colab_type": "code",
        "colab": {
          "base_uri": "https://localhost:8080/",
          "height": 34
        },
        "outputId": "06fc6338-d3ed-4362-e63d-d5bdcb70c515"
      },
      "source": [
        "test_input.shape"
      ],
      "execution_count": 96,
      "outputs": [
        {
          "output_type": "execute_result",
          "data": {
            "text/plain": [
              "(5200, 25)"
            ]
          },
          "metadata": {
            "tags": []
          },
          "execution_count": 96
        }
      ]
    },
    {
      "cell_type": "code",
      "metadata": {
        "id": "QUDn5vwBrvPa",
        "colab_type": "code",
        "colab": {}
      },
      "source": [
        "predictions = model.predict_classes(test_input)"
      ],
      "execution_count": 105,
      "outputs": []
    },
    {
      "cell_type": "code",
      "metadata": {
        "id": "9LsWxxE-sSmF",
        "colab_type": "code",
        "colab": {
          "base_uri": "https://localhost:8080/",
          "height": 136
        },
        "outputId": "120008bc-9c54-443f-a56f-fb4b74a0f136"
      },
      "source": [
        "predictions\n"
      ],
      "execution_count": 119,
      "outputs": [
        {
          "output_type": "execute_result",
          "data": {
            "text/plain": [
              "array([[0],\n",
              "       [1],\n",
              "       [1],\n",
              "       ...,\n",
              "       [0],\n",
              "       [1],\n",
              "       [0]], dtype=int32)"
            ]
          },
          "metadata": {
            "tags": []
          },
          "execution_count": 119
        }
      ]
    },
    {
      "cell_type": "code",
      "metadata": {
        "id": "sxEqmQdiu4h3",
        "colab_type": "code",
        "colab": {}
      },
      "source": [
        "df_test['preds'] = predictions"
      ],
      "execution_count": 107,
      "outputs": []
    },
    {
      "cell_type": "code",
      "metadata": {
        "id": "9X8AY8-Gu9gq",
        "colab_type": "code",
        "colab": {
          "base_uri": "https://localhost:8080/",
          "height": 419
        },
        "outputId": "23d95b73-188c-4c85-c25b-28f4dcddff56"
      },
      "source": [
        "df_test"
      ],
      "execution_count": 108,
      "outputs": [
        {
          "output_type": "execute_result",
          "data": {
            "text/html": [
              "<div>\n",
              "<style scoped>\n",
              "    .dataframe tbody tr th:only-of-type {\n",
              "        vertical-align: middle;\n",
              "    }\n",
              "\n",
              "    .dataframe tbody tr th {\n",
              "        vertical-align: top;\n",
              "    }\n",
              "\n",
              "    .dataframe thead th {\n",
              "        text-align: right;\n",
              "    }\n",
              "</style>\n",
              "<table border=\"1\" class=\"dataframe\">\n",
              "  <thead>\n",
              "    <tr style=\"text-align: right;\">\n",
              "      <th></th>\n",
              "      <th>title</th>\n",
              "      <th>text</th>\n",
              "      <th>preds</th>\n",
              "    </tr>\n",
              "  </thead>\n",
              "  <tbody>\n",
              "    <tr>\n",
              "      <th>0</th>\n",
              "      <td>specter of trump loosens tongues if not purse ...</td>\n",
              "      <td>palo alto calif. after years of scorning the p...</td>\n",
              "      <td>0</td>\n",
              "    </tr>\n",
              "    <tr>\n",
              "      <th>1</th>\n",
              "      <td>russian warships ready to strike terrorists ne...</td>\n",
              "      <td>russian warships ready to strike terrorists ne...</td>\n",
              "      <td>1</td>\n",
              "    </tr>\n",
              "    <tr>\n",
              "      <th>2</th>\n",
              "      <td>nodapl native american leaders vow to stay all...</td>\n",
              "      <td>videos nodapl native american leaders vow to s...</td>\n",
              "      <td>1</td>\n",
              "    </tr>\n",
              "    <tr>\n",
              "      <th>3</th>\n",
              "      <td>tim tebow will attempt another comeback this t...</td>\n",
              "      <td>if at first you dont succeed try a different s...</td>\n",
              "      <td>0</td>\n",
              "    </tr>\n",
              "    <tr>\n",
              "      <th>4</th>\n",
              "      <td>keiser report meme wars e995</td>\n",
              "      <td>42 mins ago 1 views 0 comments 0 likes for the...</td>\n",
              "      <td>1</td>\n",
              "    </tr>\n",
              "    <tr>\n",
              "      <th>...</th>\n",
              "      <td>...</td>\n",
              "      <td>...</td>\n",
              "      <td>...</td>\n",
              "    </tr>\n",
              "    <tr>\n",
              "      <th>5195</th>\n",
              "      <td>the bangladeshi traffic jam that never ends th...</td>\n",
              "      <td>of all the dysfunctions that plague the worlds...</td>\n",
              "      <td>0</td>\n",
              "    </tr>\n",
              "    <tr>\n",
              "      <th>5196</th>\n",
              "      <td>john kasich signs one abortion bill in ohio bu...</td>\n",
              "      <td>washington gov. john kasich of ohio on tuesday...</td>\n",
              "      <td>0</td>\n",
              "    </tr>\n",
              "    <tr>\n",
              "      <th>5197</th>\n",
              "      <td>california today what exactly is in your sushi...</td>\n",
              "      <td>good morning. want to get california today by ...</td>\n",
              "      <td>0</td>\n",
              "    </tr>\n",
              "    <tr>\n",
              "      <th>5198</th>\n",
              "      <td>300 us marines to be deployed to russian borde...</td>\n",
              "      <td>previous next 300 us marines to be deployed t...</td>\n",
              "      <td>1</td>\n",
              "    </tr>\n",
              "    <tr>\n",
              "      <th>5199</th>\n",
              "      <td>awkward sex onscreen and off the new york times</td>\n",
              "      <td>perhaps youve seen the new tv series whose pil...</td>\n",
              "      <td>0</td>\n",
              "    </tr>\n",
              "  </tbody>\n",
              "</table>\n",
              "<p>5200 rows × 3 columns</p>\n",
              "</div>"
            ],
            "text/plain": [
              "                                                  title  ... preds\n",
              "0     specter of trump loosens tongues if not purse ...  ...     0\n",
              "1     russian warships ready to strike terrorists ne...  ...     1\n",
              "2     nodapl native american leaders vow to stay all...  ...     1\n",
              "3     tim tebow will attempt another comeback this t...  ...     0\n",
              "4                          keiser report meme wars e995  ...     1\n",
              "...                                                 ...  ...   ...\n",
              "5195  the bangladeshi traffic jam that never ends th...  ...     0\n",
              "5196  john kasich signs one abortion bill in ohio bu...  ...     0\n",
              "5197  california today what exactly is in your sushi...  ...     0\n",
              "5198  300 us marines to be deployed to russian borde...  ...     1\n",
              "5199    awkward sex onscreen and off the new york times  ...     0\n",
              "\n",
              "[5200 rows x 3 columns]"
            ]
          },
          "metadata": {
            "tags": []
          },
          "execution_count": 108
        }
      ]
    },
    {
      "cell_type": "code",
      "metadata": {
        "id": "6uAQE0LyvgMl",
        "colab_type": "code",
        "colab": {
          "base_uri": "https://localhost:8080/",
          "height": 34
        },
        "outputId": "980f11d1-1556-4d25-bc45-fc9959e4edac"
      },
      "source": [
        "submission = pd.DataFrame({'id':test_id, 'label':predictions.flatten()})\n",
        "submission.shape"
      ],
      "execution_count": 118,
      "outputs": [
        {
          "output_type": "execute_result",
          "data": {
            "text/plain": [
              "(5200, 2)"
            ]
          },
          "metadata": {
            "tags": []
          },
          "execution_count": 118
        }
      ]
    },
    {
      "cell_type": "code",
      "metadata": {
        "id": "XGKPURPVwV4B",
        "colab_type": "code",
        "colab": {}
      },
      "source": [
        "submission.to_csv('submission.csv',index=False)\n"
      ],
      "execution_count": 121,
      "outputs": []
    }
  ]
}